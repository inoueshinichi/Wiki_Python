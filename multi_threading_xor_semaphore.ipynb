{
 "cells": [
  {
   "attachments": {},
   "cell_type": "markdown",
   "metadata": {},
   "source": [
    "### 有限セマフォ(Bound Semaphore)制御\n",
    "+ 同じリソースに対して上限を決めて同時アクセスを許可する方法\n",
    "+ アクセス数=1の時, mutexと同じ"
   ]
  },
  {
   "cell_type": "code",
   "execution_count": 2,
   "metadata": {},
   "outputs": [],
   "source": [
    "import threading\n",
    "import time"
   ]
  },
  {
   "cell_type": "code",
   "execution_count": 3,
   "metadata": {},
   "outputs": [
    {
     "name": "stdout",
     "output_type": "stream",
     "text": [
      "current thread: t-1\n",
      "current thread: t-3\n",
      "\n",
      "current thread: t-0\n",
      "\n",
      "current thread: t-2\n",
      "\n",
      "\n",
      "current thread: t-4\n",
      "\n",
      "current thread: t-9\n",
      "current thread: t-5\n",
      "\n",
      "current thread: t-6\n",
      "\n",
      "current thread: t-8\n",
      "\n",
      "current thread: t-7\n",
      "\n",
      "\n",
      "current thread: t-12\n",
      "current thread: t-10\n",
      "\n",
      "current thread: t-11\n",
      "\n",
      "\n",
      "current thread: t-14\n",
      "\n",
      "current thread: t-13\n",
      "\n",
      "current thread: t-18\n",
      "\n",
      "current thread: t-17\n",
      "\n",
      "current thread: t-16\n",
      "\n",
      "current thread: t-15\n",
      "\n",
      "current thread: t-19\n",
      "\n",
      "current thread: t-20\n",
      "\n",
      "current thread: t-21\n",
      "\n"
     ]
    }
   ],
   "source": [
    "def run(n):\n",
    "    semaphore.acquire()\n",
    "    time.sleep(1)\n",
    "    print(\"current thread: {}\\n\".format(n))\n",
    "    semaphore.release()\n",
    "\n",
    "\n",
    "semaphore = threading.BoundedSemaphore(5)  # 5個のスレッドの同時処理を許容する\n",
    "\n",
    "for i in range(22):\n",
    "    t = threading.Thread(target=run, args=(\"t-{}\".format(i),))\n",
    "    t.start()\n",
    "\n",
    "while threading.active_count() != 1:\n",
    "    pass  # print(threading.active_count())\n",
    "else:\n",
    "    print('-----全てのスレッドが終了した-----')"
   ]
  },
  {
   "cell_type": "code",
   "execution_count": null,
   "metadata": {},
   "outputs": [],
   "source": []
  }
 ],
 "metadata": {
  "kernelspec": {
   "display_name": "Py39WorkingEnv",
   "language": "python",
   "name": "python3"
  },
  "language_info": {
   "codemirror_mode": {
    "name": "ipython",
    "version": 3
   },
   "file_extension": ".py",
   "mimetype": "text/x-python",
   "name": "python",
   "nbconvert_exporter": "python",
   "pygments_lexer": "ipython3",
   "version": "3.9.16"
  },
  "orig_nbformat": 4,
  "vscode": {
   "interpreter": {
    "hash": "827a83b0be93318b0c94bf2afc58bfa9036c74beed2d36f49015e85d5cea6462"
   }
  }
 },
 "nbformat": 4,
 "nbformat_minor": 2
}
