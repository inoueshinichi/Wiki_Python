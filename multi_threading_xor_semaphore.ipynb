{
 "cells": [
  {
   "cell_type": "code",
   "execution_count": null,
   "metadata": {},
   "outputs": [],
   "source": []
  }
 ],
 "metadata": {
  "kernelspec": {
   "display_name": "Py39WorkingEnv",
   "language": "python",
   "name": "python3"
  },
  "language_info": {
   "name": "python",
   "version": "3.9.16"
  },
  "orig_nbformat": 4,
  "vscode": {
   "interpreter": {
    "hash": "827a83b0be93318b0c94bf2afc58bfa9036c74beed2d36f49015e85d5cea6462"
   }
  }
 },
 "nbformat": 4,
 "nbformat_minor": 2
}
