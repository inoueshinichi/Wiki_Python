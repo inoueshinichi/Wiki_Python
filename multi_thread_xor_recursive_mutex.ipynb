{
 "cells": [
  {
   "attachments": {},
   "cell_type": "markdown",
   "metadata": {},
   "source": [
    "### 再帰的排他制御\n",
    "+ lock時は再帰ロックでlock_aquire()をネストしてコールしてよい.\n",
    "+ release時にrelease()でネストされたlock要求をまとめて解除できる."
   ]
  },
  {
   "cell_type": "code",
   "execution_count": 1,
   "metadata": {},
   "outputs": [],
   "source": [
    "import threading"
   ]
  },
  {
   "cell_type": "code",
   "execution_count": 2,
   "metadata": {},
   "outputs": [],
   "source": [
    "# 貯金額とする\n",
    "balance = 0\n",
    "\n",
    "\n",
    "def add_it(n):\n",
    "    lock.acquire()\n",
    "    global balance\n",
    "    balance = balance + n\n",
    "    return balance\n",
    "\n",
    "\n",
    "def sub_it(n):\n",
    "    lock.acquire()\n",
    "    global balance\n",
    "    balance = balance - n\n",
    "    return balance\n",
    "\n",
    "\n",
    "def change_it(n):\n",
    "    # ロックを取得\n",
    "    lock.acquire()\n",
    "    global balance\n",
    "    balance = add_it(n)\n",
    "    balance = sub_it(n)\n",
    "    # 再帰的ににロックを解放\n",
    "    lock.release()\n",
    "\n",
    "\n",
    "def run_thread(n):\n",
    "    for i in range(10):\n",
    "        change_it(n)\n",
    "\n",
    "\n",
    "lock = threading.RLock()  # ロックをインスタンス化 (再帰ロックRLock())\n",
    "\n",
    "t1 = threading.Thread(target=run_thread, args=(5,))\n",
    "t2 = threading.Thread(target=run_thread, args=(8,))\n",
    "t1.start()\n",
    "t2.start()\n",
    "t1.join()\n",
    "t2.join()\n",
    "print(balance)"
   ]
  },
  {
   "attachments": {},
   "cell_type": "markdown",
   "metadata": {},
   "source": [
    "Jupyterだと処理が終了しない..."
   ]
  },
  {
   "cell_type": "code",
   "execution_count": null,
   "metadata": {},
   "outputs": [],
   "source": []
  }
 ],
 "metadata": {
  "kernelspec": {
   "display_name": "Py39WorkingEnv",
   "language": "python",
   "name": "python3"
  },
  "language_info": {
   "codemirror_mode": {
    "name": "ipython",
    "version": 3
   },
   "file_extension": ".py",
   "mimetype": "text/x-python",
   "name": "python",
   "nbconvert_exporter": "python",
   "pygments_lexer": "ipython3",
   "version": "3.9.16"
  },
  "orig_nbformat": 4,
  "vscode": {
   "interpreter": {
    "hash": "827a83b0be93318b0c94bf2afc58bfa9036c74beed2d36f49015e85d5cea6462"
   }
  }
 },
 "nbformat": 4,
 "nbformat_minor": 2
}
