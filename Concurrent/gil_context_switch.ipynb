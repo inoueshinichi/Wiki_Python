{
 "cells": [
  {
   "attachments": {},
   "cell_type": "markdown",
   "metadata": {},
   "source": [
    "## PythonのGIL\n",
    "+ Pythonは完全な並行処理言語(C言語ライブラリとの親和性とセキュリティを考慮した結果). ちなみに, Rubyも完全並行処理言語.\n",
    "+ ある時刻にOSにインタープリターが依頼してスレッドリソースを貰って処理をする.\n",
    "+ GILはOSへスレッドリソースを依頼するための権利.\n",
    "+ GILは実行中のPythonプログラムで, GIL回収ルールを確認して条件を満たしていた時にコンテキストスイッチを行ってOSから貰った別スレッドで動作する.\n",
    "+ 常にGILによってスレッドリソースを切り替えながら処理実行をしている.\n",
    "\n",
    "### GIL回収ルール\n",
    "1. I/O操作が発生\n",
    "2. 一定時刻を経過(デフォルト5ms)\n",
    "+ グローバル変数`gil_drop_request`が設置され, `0`の時は実行し続けて大丈夫だが, `1`になったらGILを回収.\n",
    "+ `cv_wait(gil, TIMEOUT)`で`gil_drop_request`を制御. `TIMEOUT`でGIL回収条件の経過時間を変更できる."
   ]
  },
  {
   "attachments": {},
   "cell_type": "markdown",
   "metadata": {},
   "source": [
    "無限ループによる完全並行処理言語であることを確認"
   ]
  },
  {
   "cell_type": "code",
   "execution_count": null,
   "metadata": {},
   "outputs": [],
   "source": [
    "import threading\n",
    "import multiprocessing\n",
    "\n",
    "\n",
    "def loop():\n",
    "    x = 0\n",
    "    while True:\n",
    "        x = x ^ 1\n",
    "\n",
    "\n",
    "for i in range(multiprocessing.cpu_count()):\n",
    "    t = threading.Thread(target=loop)\n",
    "    t.start()"
   ]
  },
  {
   "attachments": {},
   "cell_type": "markdown",
   "metadata": {},
   "source": [
    "### I/OバウンドなPythonプログラムとCPUバウンドなPythonプログラムによる実行速度効率の違い\n",
    "| バウンドの種類 | 効率 | 内容 |\n",
    "| :-- | :-- | :-- |\n",
    "| CPUバウントなプログラム | × | 元々遅いCPUタスクに加え一定時刻毎のGILによるコンテキストスイッチのオーバーヘッドにより実行効率が悪い |\n",
    "| I/Oバウンドなプログラム | ○ | I/O処理フェーズに移行した直後にGILによって現スレッドから別スレッドへのコンテキストスイッチが発生し, 実行プログラムをI/O処理と並列に行えるため実行効率が良い |\n",
    "| CPU・I/Oバウンド混在プログラム | Case by caseだが, Convoy Effectに注意. |\n",
    "\n",
    "### Convoy Effect\n",
    "+ 遅いタスクに引きずられて、システム全体が遅くなるという性質.\n",
    "遅いCPUバウンドタスクと速いIOバウンドタスクをそれぞれ別のスレッドで実行させる時, 処理が速くて本来スレッドの切り替えが不要なIOタスクが, GIL回収ルールによってタスクごと終了前にGILによって実行件を奪われてしまい, 遅いCPUバウンドタスクが終わるまでの間に待ち時間が発生する. I/Oバウンドタスクは既に処理が終了しているのにも関わらず, 次にGILを取得するまで待ってしまう. 結果的に, 遅いCPUバウンドタスクに引きずられてシステム全体が遅くなってしまう."
   ]
  },
  {
   "cell_type": "markdown",
   "metadata": {},
   "source": []
  },
  {
   "attachments": {},
   "cell_type": "markdown",
   "metadata": {},
   "source": [
    "## PythonではマルチCPUを最大限活用したいならmultithreadingモジュールよりmultiprocessingモジュールを使ったほうが良い"
   ]
  },
  {
   "cell_type": "markdown",
   "metadata": {},
   "source": []
  }
 ],
 "metadata": {
  "kernelspec": {
   "display_name": "Py39WorkingEnv",
   "language": "python",
   "name": "python3"
  },
  "language_info": {
   "name": "python",
   "version": "3.9.16"
  },
  "orig_nbformat": 4,
  "vscode": {
   "interpreter": {
    "hash": "827a83b0be93318b0c94bf2afc58bfa9036c74beed2d36f49015e85d5cea6462"
   }
  }
 },
 "nbformat": 4,
 "nbformat_minor": 2
}
